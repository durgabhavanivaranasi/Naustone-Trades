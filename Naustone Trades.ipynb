{
 "cells": [
  {
   "cell_type": "code",
   "execution_count": 1,
   "id": "adb06bc0",
   "metadata": {},
   "outputs": [
    {
     "name": "stdout",
     "output_type": "stream",
     "text": [
      "[1, 3, 4]\n"
     ]
    }
   ],
   "source": [
    "def solution(commands):\n",
    "    counts = [0, 0, 0]  # Initialize counts for cp, 1s, and mv\n",
    "    \n",
    "    history = []  # Maintain a history of executed commands\n",
    "    \n",
    "    for command in commands:\n",
    "        if command.startswith('!'):\n",
    "            index = int(command[1:]) - 1  # Get the index from \"!<index>\"\n",
    "            repeated_command = history[index]  # Get the repeated command\n",
    "            if repeated_command == 'cp':\n",
    "                counts[0] += 1\n",
    "            elif repeated_command == '1s':\n",
    "                counts[1] += 1\n",
    "            elif repeated_command == 'mv':\n",
    "                counts[2] += 1\n",
    "            history.append(repeated_command)  # Add the repeated command to history\n",
    "        else:\n",
    "            if command == 'cp':\n",
    "                counts[0] += 1\n",
    "            elif command == '1s':\n",
    "                counts[1] += 1\n",
    "            elif command == 'mv':\n",
    "                counts[2] += 1\n",
    "            history.append(command)  # Add the executed command to history\n",
    "    \n",
    "    return counts\n",
    "commands = [\"1s\", \"cp\", \"mv\", \"mv\", \"mv\", \"!1\", \"!3\", \"!6\"]\n",
    "print(solution(commands))  \n"
   ]
  },
  {
   "cell_type": "code",
   "execution_count": null,
   "id": "2459f332",
   "metadata": {},
   "outputs": [],
   "source": []
  }
 ],
 "metadata": {
  "kernelspec": {
   "display_name": "Python 3 (ipykernel)",
   "language": "python",
   "name": "python3"
  },
  "language_info": {
   "codemirror_mode": {
    "name": "ipython",
    "version": 3
   },
   "file_extension": ".py",
   "mimetype": "text/x-python",
   "name": "python",
   "nbconvert_exporter": "python",
   "pygments_lexer": "ipython3",
   "version": "3.10.9"
  }
 },
 "nbformat": 4,
 "nbformat_minor": 5
}
